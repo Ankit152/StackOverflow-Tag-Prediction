{
 "cells": [
  {
   "cell_type": "code",
   "execution_count": 1,
   "metadata": {},
   "outputs": [],
   "source": [
    "import pandas as pd\n",
    "import numpy as np\n",
    "train=pd.read_csv('train.csv')\n",
    "test=pd.read_csv('valid.csv')"
   ]
  },
  {
   "cell_type": "code",
   "execution_count": 2,
   "metadata": {},
   "outputs": [
    {
     "name": "stdout",
     "output_type": "stream",
     "text": [
      "Index(['Id', 'Title', 'Body', 'Tags', 'CreationDate', 'Y'], dtype='object')\n",
      "Index(['Id', 'Title', 'Body', 'Tags', 'CreationDate', 'Y'], dtype='object')\n"
     ]
    }
   ],
   "source": [
    "print(train.columns)\n",
    "print(test.columns)"
   ]
  },
  {
   "cell_type": "code",
   "execution_count": 3,
   "metadata": {},
   "outputs": [
    {
     "name": "stdout",
     "output_type": "stream",
     "text": [
      "Columns dropped from train.....\n",
      "Columns dropped from test.....\n"
     ]
    }
   ],
   "source": [
    "train=train.drop(columns=['Id','CreationDate','Y'],axis=1)\n",
    "print(\"Columns dropped from train.....\")\n",
    "test=test.drop(columns=['Id','CreationDate','Y'],axis=1)\n",
    "print(\"Columns dropped from test.....\")"
   ]
  },
  {
   "cell_type": "code",
   "execution_count": 4,
   "metadata": {},
   "outputs": [
    {
     "data": {
      "text/plain": [
       "0                                       <java><repeat>\n",
       "1                                     <java><optional>\n",
       "2    <javascript><image><overlay><react-native><opa...\n",
       "3    <swift><operators><whitespace><ternary-operato...\n",
       "4    <android><material-design><floating-action-but...\n",
       "Name: Tags, dtype: object"
      ]
     },
     "execution_count": 4,
     "metadata": {},
     "output_type": "execute_result"
    }
   ],
   "source": [
    "train['Tags'].head()"
   ]
  },
  {
   "cell_type": "code",
   "execution_count": 5,
   "metadata": {},
   "outputs": [
    {
     "name": "stdout",
     "output_type": "stream",
     "text": [
      "Cleaning of Tags for train data is done....\n",
      "Cleaning of Tags for test data is done....\n"
     ]
    }
   ],
   "source": [
    "def clean_tags(s):\n",
    "    '''\n",
    "    This function converts the Tags in a space separated sentence.\n",
    "    '''\n",
    "    s=str(s)\n",
    "    n=len(s)\n",
    "    ls=[]\n",
    "    for i in range(0,n):\n",
    "        if s[i]=='<':\n",
    "            for j in range(i+1,n):\n",
    "                if s[j]=='>':\n",
    "                    ls.append(s[i+1:j])\n",
    "                    i=j+1\n",
    "                    break\n",
    "    s=\" \"\n",
    "    s=s.join(ls)\n",
    "    return s\n",
    "\n",
    "tag=lambda s:clean_tags(s)\n",
    "train['Tags']=pd.DataFrame(train.Tags.apply(tag))\n",
    "print(\"Cleaning of Tags for train data is done....\")\n",
    "test['Tags']=pd.DataFrame(test.Tags.apply(tag))\n",
    "print(\"Cleaning of Tags for test data is done....\")"
   ]
  },
  {
   "cell_type": "code",
   "execution_count": 6,
   "metadata": {},
   "outputs": [
    {
     "data": {
      "text/plain": [
       "0                                          java repeat\n",
       "1                                        java optional\n",
       "2        javascript image overlay react-native opacity\n",
       "3    swift operators whitespace ternary-operator op...\n",
       "4       android material-design floating-action-button\n",
       "Name: Tags, dtype: object"
      ]
     },
     "execution_count": 6,
     "metadata": {},
     "output_type": "execute_result"
    }
   ],
   "source": [
    "train['Tags'].head()"
   ]
  },
  {
   "cell_type": "code",
   "execution_count": 7,
   "metadata": {},
   "outputs": [
    {
     "data": {
      "text/plain": [
       "0                      sql sql-server\n",
       "1    php mysql sql codeigniter mysqli\n",
       "2                       python pandas\n",
       "3                   sql-server c#-4.0\n",
       "4                                 php\n",
       "Name: Tags, dtype: object"
      ]
     },
     "execution_count": 7,
     "metadata": {},
     "output_type": "execute_result"
    }
   ],
   "source": [
    "test['Tags'].head()"
   ]
  },
  {
   "cell_type": "code",
   "execution_count": 8,
   "metadata": {},
   "outputs": [
    {
     "name": "stdout",
     "output_type": "stream",
     "text": [
      "<class 'pandas.core.frame.DataFrame'>\n",
      "RangeIndex: 45000 entries, 0 to 44999\n",
      "Data columns (total 3 columns):\n",
      " #   Column  Non-Null Count  Dtype \n",
      "---  ------  --------------  ----- \n",
      " 0   Title   45000 non-null  object\n",
      " 1   Body    45000 non-null  object\n",
      " 2   Tags    45000 non-null  object\n",
      "dtypes: object(3)\n",
      "memory usage: 1.0+ MB\n"
     ]
    }
   ],
   "source": [
    "train.info()"
   ]
  },
  {
   "cell_type": "code",
   "execution_count": 9,
   "metadata": {},
   "outputs": [
    {
     "name": "stdout",
     "output_type": "stream",
     "text": [
      "<class 'pandas.core.frame.DataFrame'>\n",
      "RangeIndex: 15000 entries, 0 to 14999\n",
      "Data columns (total 3 columns):\n",
      " #   Column  Non-Null Count  Dtype \n",
      "---  ------  --------------  ----- \n",
      " 0   Title   15000 non-null  object\n",
      " 1   Body    15000 non-null  object\n",
      " 2   Tags    15000 non-null  object\n",
      "dtypes: object(3)\n",
      "memory usage: 351.7+ KB\n"
     ]
    }
   ],
   "source": [
    "test.info()"
   ]
  },
  {
   "cell_type": "code",
   "execution_count": 10,
   "metadata": {},
   "outputs": [
    {
     "name": "stdout",
     "output_type": "stream",
     "text": [
      "The training data saved in the disk....\n",
      "The testing data saved in the disk....\n"
     ]
    }
   ],
   "source": [
    "train.to_csv('preprocessedTrain.csv',index=False)\n",
    "print('The training data saved in the disk....')\n",
    "test.to_csv('preprocessedTest.csv',index=False)\n",
    "print('The testing data saved in the disk....')"
   ]
  },
  {
   "cell_type": "code",
   "execution_count": null,
   "metadata": {},
   "outputs": [],
   "source": []
  }
 ],
 "metadata": {
  "kernelspec": {
   "display_name": "Python 3",
   "language": "python",
   "name": "python3"
  },
  "language_info": {
   "codemirror_mode": {
    "name": "ipython",
    "version": 3
   },
   "file_extension": ".py",
   "mimetype": "text/x-python",
   "name": "python",
   "nbconvert_exporter": "python",
   "pygments_lexer": "ipython3",
   "version": "3.7.9"
  }
 },
 "nbformat": 4,
 "nbformat_minor": 4
}
